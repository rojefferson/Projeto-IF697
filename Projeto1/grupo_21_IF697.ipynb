{
  "nbformat": 4,
  "nbformat_minor": 0,
  "metadata": {
    "colab": {
      "provenance": []
    },
    "kernelspec": {
      "name": "python3",
      "display_name": "Python 3"
    },
    "language_info": {
      "name": "python"
    }
  },
  "cells": [
    {
      "cell_type": "markdown",
      "source": [
        "**Importações das bibliotecas.**"
      ],
      "metadata": {
        "id": "ojvHnlQGfSxo"
      }
    },
    {
      "cell_type": "code",
      "execution_count": 10,
      "metadata": {
        "colab": {
          "base_uri": "https://localhost:8080/"
        },
        "id": "UUSNhQ8eeuZr",
        "outputId": "6a80b16b-22cd-4710-9fc3-8fb77ddd527e"
      },
      "outputs": [
        {
          "output_type": "stream",
          "name": "stdout",
          "text": [
            "Drive already mounted at /content/drive; to attempt to forcibly remount, call drive.mount(\"/content/drive\", force_remount=True).\n"
          ]
        }
      ],
      "source": [
        "# Importando as bibliotecas necessarias\n",
        "\n",
        "import pandas as pd\n",
        "import numpy as np\n",
        "from sklearn.linear_model import LinearRegression\n",
        "from matplotlib import pyplot as plt\n",
        "import datetime as dt\n",
        "%matplotlib inline\n",
        "from google.colab import drive\n",
        "drive.mount('/content/drive')"
      ]
    },
    {
      "cell_type": "markdown",
      "source": [
        "**1. Introdução e Coleta dos Dados**\n"
      ],
      "metadata": {
        "id": "FmRc576if6GI"
      }
    },
    {
      "cell_type": "code",
      "source": [
        "data = pd.read_csv('/content/semanal-municipios-2022-2024.csv',sep=\";\")"
      ],
      "metadata": {
        "id": "yNeoNzBFgOim"
      },
      "execution_count": 23,
      "outputs": []
    },
    {
      "cell_type": "code",
      "source": [
        "data.columns"
      ],
      "metadata": {
        "colab": {
          "base_uri": "https://localhost:8080/"
        },
        "id": "e6MD3CTugRxn",
        "outputId": "a9109bf0-9fd8-4d8b-bd36-bfdf6cbb227c"
      },
      "execution_count": 24,
      "outputs": [
        {
          "output_type": "execute_result",
          "data": {
            "text/plain": [
              "Index(['DATA INICIAL', 'DATA FINAL', 'REGIÃO', 'ESTADO', 'MUNICÍPIO',\n",
              "       'PRODUTO', 'NÚMERO DE POSTOS PESQUISADOS', 'UNIDADE DE MEDIDA',\n",
              "       'PREÇO MÉDIO REVENDA', 'DESVIO PADRÃO REVENDA', 'PREÇO MÍNIMO REVENDA',\n",
              "       'PREÇO MÁXIMO REVENDA', 'MARGEM MÉDIA REVENDA',\n",
              "       'COEF DE VARIAÇÃO REVENDA'],\n",
              "      dtype='object')"
            ]
          },
          "metadata": {},
          "execution_count": 24
        }
      ]
    },
    {
      "cell_type": "markdown",
      "source": [
        "**Renomeando colunas**\n",
        "\n",
        "Como os nomes das colunas do dataset não estão na forma mais conveniente, isto é, sem espaços ou acentos, vamos, primeiramente, ajustá-los"
      ],
      "metadata": {
        "id": "jddTkHPEI5v_"
      }
    },
    {
      "cell_type": "code",
      "source": [
        "def get_string_adjuster():\n",
        "    untranslated_string = ' ÁÃÇÍÉÊÚ'\n",
        "    translated_string = '_AACIEEU'\n",
        "\n",
        "    def adjust_string(to_adjust):\n",
        "        translation_map = to_adjust.maketrans(untranslated_string, translated_string)\n",
        "        return to_adjust.translate(translation_map)\n",
        "\n",
        "    return adjust_string"
      ],
      "metadata": {
        "id": "GJ--_VP4Jaa-"
      },
      "execution_count": 25,
      "outputs": []
    },
    {
      "cell_type": "code",
      "source": [
        "adjust_string = get_string_adjuster()\n",
        "\n",
        "column_names_to_adjusted_names = {\n",
        "    original_name : adjust_string(original_name)\n",
        "    for original_name\n",
        "    in data.columns\n",
        "}\n",
        "\n",
        "data = data.rename(columns = column_names_to_adjusted_names)\n",
        "data.columns"
      ],
      "metadata": {
        "colab": {
          "base_uri": "https://localhost:8080/"
        },
        "id": "BzP3X7fGJfP2",
        "outputId": "9e237807-5bba-4508-e1b2-4b184bc60d4f"
      },
      "execution_count": 26,
      "outputs": [
        {
          "output_type": "execute_result",
          "data": {
            "text/plain": [
              "Index(['DATA_INICIAL', 'DATA_FINAL', 'REGIAO', 'ESTADO', 'MUNICIPIO',\n",
              "       'PRODUTO', 'NUMERO_DE_POSTOS_PESQUISADOS', 'UNIDADE_DE_MEDIDA',\n",
              "       'PRECO_MEDIO_REVENDA', 'DESVIO_PADRAO_REVENDA', 'PRECO_MINIMO_REVENDA',\n",
              "       'PRECO_MAXIMO_REVENDA', 'MARGEM_MEDIA_REVENDA',\n",
              "       'COEF_DE_VARIACAO_REVENDA'],\n",
              "      dtype='object')"
            ]
          },
          "metadata": {},
          "execution_count": 26
        }
      ]
    },
    {
      "cell_type": "markdown",
      "source": [
        "**Tipo de cada coluna:**\n",
        "\n",
        "Objetivamos definir o tipo de cada coluna e, caso necessário, ajustá-lo para um condizente com o mostrado"
      ],
      "metadata": {
        "id": "D12FstrjJryu"
      }
    },
    {
      "cell_type": "code",
      "source": [
        "data.dtypes"
      ],
      "metadata": {
        "colab": {
          "base_uri": "https://localhost:8080/"
        },
        "id": "Uwat-1XxJw13",
        "outputId": "3a30f8a3-fa11-495d-b1a3-a3ee402a2548"
      },
      "execution_count": 27,
      "outputs": [
        {
          "output_type": "execute_result",
          "data": {
            "text/plain": [
              "DATA_INICIAL                     object\n",
              "DATA_FINAL                       object\n",
              "REGIAO                           object\n",
              "ESTADO                           object\n",
              "MUNICIPIO                        object\n",
              "PRODUTO                          object\n",
              "NUMERO_DE_POSTOS_PESQUISADOS    float64\n",
              "UNIDADE_DE_MEDIDA                object\n",
              "PRECO_MEDIO_REVENDA              object\n",
              "DESVIO_PADRAO_REVENDA            object\n",
              "PRECO_MINIMO_REVENDA             object\n",
              "PRECO_MAXIMO_REVENDA             object\n",
              "MARGEM_MEDIA_REVENDA             object\n",
              "COEF_DE_VARIACAO_REVENDA         object\n",
              "dtype: object"
            ]
          },
          "metadata": {},
          "execution_count": 27
        }
      ]
    },
    {
      "cell_type": "code",
      "source": [
        "data.head()"
      ],
      "metadata": {
        "colab": {
          "base_uri": "https://localhost:8080/",
          "height": 348
        },
        "id": "c0MaM1ovLOwt",
        "outputId": "ea510775-a438-4b2e-cdfa-8a4ac4fb2e31"
      },
      "execution_count": 28,
      "outputs": [
        {
          "output_type": "execute_result",
          "data": {
            "text/plain": [
              "  DATA_INICIAL DATA_FINAL        REGIAO             ESTADO  \\\n",
              "0     2/1/2022   8/1/2022       SUDESTE          SAO PAULO   \n",
              "1     2/1/2022   8/1/2022  CENTRO OESTE              GOIAS   \n",
              "2     2/1/2022   8/1/2022           SUL  RIO GRANDE DO SUL   \n",
              "3     2/1/2022   8/1/2022         NORTE               PARA   \n",
              "4     2/1/2022   8/1/2022       SUDESTE       MINAS GERAIS   \n",
              "\n",
              "               MUNICIPIO           PRODUTO  NUMERO_DE_POSTOS_PESQUISADOS  \\\n",
              "0             ADAMANTINA  ETANOL HIDRATADO                           7.0   \n",
              "1  AGUAS LINDAS DE GOIAS  ETANOL HIDRATADO                           4.0   \n",
              "2               ALEGRETE  ETANOL HIDRATADO                           2.0   \n",
              "3               ALENQUER  ETANOL HIDRATADO                           1.0   \n",
              "4                ALFENAS  ETANOL HIDRATADO                           2.0   \n",
              "\n",
              "  UNIDADE_DE_MEDIDA PRECO_MEDIO_REVENDA DESVIO_PADRAO_REVENDA  \\\n",
              "0              R$/l               4,656                 0,078   \n",
              "1              R$/l               5,199                 0,001   \n",
              "2              R$/l               6,845                 0,643   \n",
              "3              R$/l               7,120                 0,000   \n",
              "4              R$/l               5,499                 0,000   \n",
              "\n",
              "  PRECO_MINIMO_REVENDA PRECO_MAXIMO_REVENDA MARGEM_MEDIA_REVENDA  \\\n",
              "0                4,580                4,790                    -   \n",
              "1                5,198                5,199                    -   \n",
              "2                6,390                7,299                    -   \n",
              "3                7,120                7,120                    -   \n",
              "4                5,499                5,499                    -   \n",
              "\n",
              "  COEF_DE_VARIACAO_REVENDA  \n",
              "0                    0,017  \n",
              "1                    0,000  \n",
              "2                    0,094  \n",
              "3                    0,000  \n",
              "4                    0,000  "
            ],
            "text/html": [
              "\n",
              "  <div id=\"df-92cd2e0b-c02d-4a56-b288-de8cc8d2dc02\" class=\"colab-df-container\">\n",
              "    <div>\n",
              "<style scoped>\n",
              "    .dataframe tbody tr th:only-of-type {\n",
              "        vertical-align: middle;\n",
              "    }\n",
              "\n",
              "    .dataframe tbody tr th {\n",
              "        vertical-align: top;\n",
              "    }\n",
              "\n",
              "    .dataframe thead th {\n",
              "        text-align: right;\n",
              "    }\n",
              "</style>\n",
              "<table border=\"1\" class=\"dataframe\">\n",
              "  <thead>\n",
              "    <tr style=\"text-align: right;\">\n",
              "      <th></th>\n",
              "      <th>DATA_INICIAL</th>\n",
              "      <th>DATA_FINAL</th>\n",
              "      <th>REGIAO</th>\n",
              "      <th>ESTADO</th>\n",
              "      <th>MUNICIPIO</th>\n",
              "      <th>PRODUTO</th>\n",
              "      <th>NUMERO_DE_POSTOS_PESQUISADOS</th>\n",
              "      <th>UNIDADE_DE_MEDIDA</th>\n",
              "      <th>PRECO_MEDIO_REVENDA</th>\n",
              "      <th>DESVIO_PADRAO_REVENDA</th>\n",
              "      <th>PRECO_MINIMO_REVENDA</th>\n",
              "      <th>PRECO_MAXIMO_REVENDA</th>\n",
              "      <th>MARGEM_MEDIA_REVENDA</th>\n",
              "      <th>COEF_DE_VARIACAO_REVENDA</th>\n",
              "    </tr>\n",
              "  </thead>\n",
              "  <tbody>\n",
              "    <tr>\n",
              "      <th>0</th>\n",
              "      <td>2/1/2022</td>\n",
              "      <td>8/1/2022</td>\n",
              "      <td>SUDESTE</td>\n",
              "      <td>SAO PAULO</td>\n",
              "      <td>ADAMANTINA</td>\n",
              "      <td>ETANOL HIDRATADO</td>\n",
              "      <td>7.0</td>\n",
              "      <td>R$/l</td>\n",
              "      <td>4,656</td>\n",
              "      <td>0,078</td>\n",
              "      <td>4,580</td>\n",
              "      <td>4,790</td>\n",
              "      <td>-</td>\n",
              "      <td>0,017</td>\n",
              "    </tr>\n",
              "    <tr>\n",
              "      <th>1</th>\n",
              "      <td>2/1/2022</td>\n",
              "      <td>8/1/2022</td>\n",
              "      <td>CENTRO OESTE</td>\n",
              "      <td>GOIAS</td>\n",
              "      <td>AGUAS LINDAS DE GOIAS</td>\n",
              "      <td>ETANOL HIDRATADO</td>\n",
              "      <td>4.0</td>\n",
              "      <td>R$/l</td>\n",
              "      <td>5,199</td>\n",
              "      <td>0,001</td>\n",
              "      <td>5,198</td>\n",
              "      <td>5,199</td>\n",
              "      <td>-</td>\n",
              "      <td>0,000</td>\n",
              "    </tr>\n",
              "    <tr>\n",
              "      <th>2</th>\n",
              "      <td>2/1/2022</td>\n",
              "      <td>8/1/2022</td>\n",
              "      <td>SUL</td>\n",
              "      <td>RIO GRANDE DO SUL</td>\n",
              "      <td>ALEGRETE</td>\n",
              "      <td>ETANOL HIDRATADO</td>\n",
              "      <td>2.0</td>\n",
              "      <td>R$/l</td>\n",
              "      <td>6,845</td>\n",
              "      <td>0,643</td>\n",
              "      <td>6,390</td>\n",
              "      <td>7,299</td>\n",
              "      <td>-</td>\n",
              "      <td>0,094</td>\n",
              "    </tr>\n",
              "    <tr>\n",
              "      <th>3</th>\n",
              "      <td>2/1/2022</td>\n",
              "      <td>8/1/2022</td>\n",
              "      <td>NORTE</td>\n",
              "      <td>PARA</td>\n",
              "      <td>ALENQUER</td>\n",
              "      <td>ETANOL HIDRATADO</td>\n",
              "      <td>1.0</td>\n",
              "      <td>R$/l</td>\n",
              "      <td>7,120</td>\n",
              "      <td>0,000</td>\n",
              "      <td>7,120</td>\n",
              "      <td>7,120</td>\n",
              "      <td>-</td>\n",
              "      <td>0,000</td>\n",
              "    </tr>\n",
              "    <tr>\n",
              "      <th>4</th>\n",
              "      <td>2/1/2022</td>\n",
              "      <td>8/1/2022</td>\n",
              "      <td>SUDESTE</td>\n",
              "      <td>MINAS GERAIS</td>\n",
              "      <td>ALFENAS</td>\n",
              "      <td>ETANOL HIDRATADO</td>\n",
              "      <td>2.0</td>\n",
              "      <td>R$/l</td>\n",
              "      <td>5,499</td>\n",
              "      <td>0,000</td>\n",
              "      <td>5,499</td>\n",
              "      <td>5,499</td>\n",
              "      <td>-</td>\n",
              "      <td>0,000</td>\n",
              "    </tr>\n",
              "  </tbody>\n",
              "</table>\n",
              "</div>\n",
              "    <div class=\"colab-df-buttons\">\n",
              "\n",
              "  <div class=\"colab-df-container\">\n",
              "    <button class=\"colab-df-convert\" onclick=\"convertToInteractive('df-92cd2e0b-c02d-4a56-b288-de8cc8d2dc02')\"\n",
              "            title=\"Convert this dataframe to an interactive table.\"\n",
              "            style=\"display:none;\">\n",
              "\n",
              "  <svg xmlns=\"http://www.w3.org/2000/svg\" height=\"24px\" viewBox=\"0 -960 960 960\">\n",
              "    <path d=\"M120-120v-720h720v720H120Zm60-500h600v-160H180v160Zm220 220h160v-160H400v160Zm0 220h160v-160H400v160ZM180-400h160v-160H180v160Zm440 0h160v-160H620v160ZM180-180h160v-160H180v160Zm440 0h160v-160H620v160Z\"/>\n",
              "  </svg>\n",
              "    </button>\n",
              "\n",
              "  <style>\n",
              "    .colab-df-container {\n",
              "      display:flex;\n",
              "      gap: 12px;\n",
              "    }\n",
              "\n",
              "    .colab-df-convert {\n",
              "      background-color: #E8F0FE;\n",
              "      border: none;\n",
              "      border-radius: 50%;\n",
              "      cursor: pointer;\n",
              "      display: none;\n",
              "      fill: #1967D2;\n",
              "      height: 32px;\n",
              "      padding: 0 0 0 0;\n",
              "      width: 32px;\n",
              "    }\n",
              "\n",
              "    .colab-df-convert:hover {\n",
              "      background-color: #E2EBFA;\n",
              "      box-shadow: 0px 1px 2px rgba(60, 64, 67, 0.3), 0px 1px 3px 1px rgba(60, 64, 67, 0.15);\n",
              "      fill: #174EA6;\n",
              "    }\n",
              "\n",
              "    .colab-df-buttons div {\n",
              "      margin-bottom: 4px;\n",
              "    }\n",
              "\n",
              "    [theme=dark] .colab-df-convert {\n",
              "      background-color: #3B4455;\n",
              "      fill: #D2E3FC;\n",
              "    }\n",
              "\n",
              "    [theme=dark] .colab-df-convert:hover {\n",
              "      background-color: #434B5C;\n",
              "      box-shadow: 0px 1px 3px 1px rgba(0, 0, 0, 0.15);\n",
              "      filter: drop-shadow(0px 1px 2px rgba(0, 0, 0, 0.3));\n",
              "      fill: #FFFFFF;\n",
              "    }\n",
              "  </style>\n",
              "\n",
              "    <script>\n",
              "      const buttonEl =\n",
              "        document.querySelector('#df-92cd2e0b-c02d-4a56-b288-de8cc8d2dc02 button.colab-df-convert');\n",
              "      buttonEl.style.display =\n",
              "        google.colab.kernel.accessAllowed ? 'block' : 'none';\n",
              "\n",
              "      async function convertToInteractive(key) {\n",
              "        const element = document.querySelector('#df-92cd2e0b-c02d-4a56-b288-de8cc8d2dc02');\n",
              "        const dataTable =\n",
              "          await google.colab.kernel.invokeFunction('convertToInteractive',\n",
              "                                                    [key], {});\n",
              "        if (!dataTable) return;\n",
              "\n",
              "        const docLinkHtml = 'Like what you see? Visit the ' +\n",
              "          '<a target=\"_blank\" href=https://colab.research.google.com/notebooks/data_table.ipynb>data table notebook</a>'\n",
              "          + ' to learn more about interactive tables.';\n",
              "        element.innerHTML = '';\n",
              "        dataTable['output_type'] = 'display_data';\n",
              "        await google.colab.output.renderOutput(dataTable, element);\n",
              "        const docLink = document.createElement('div');\n",
              "        docLink.innerHTML = docLinkHtml;\n",
              "        element.appendChild(docLink);\n",
              "      }\n",
              "    </script>\n",
              "  </div>\n",
              "\n",
              "\n",
              "<div id=\"df-09b273ae-de71-4abc-867f-48397c23d31a\">\n",
              "  <button class=\"colab-df-quickchart\" onclick=\"quickchart('df-09b273ae-de71-4abc-867f-48397c23d31a')\"\n",
              "            title=\"Suggest charts\"\n",
              "            style=\"display:none;\">\n",
              "\n",
              "<svg xmlns=\"http://www.w3.org/2000/svg\" height=\"24px\"viewBox=\"0 0 24 24\"\n",
              "     width=\"24px\">\n",
              "    <g>\n",
              "        <path d=\"M19 3H5c-1.1 0-2 .9-2 2v14c0 1.1.9 2 2 2h14c1.1 0 2-.9 2-2V5c0-1.1-.9-2-2-2zM9 17H7v-7h2v7zm4 0h-2V7h2v10zm4 0h-2v-4h2v4z\"/>\n",
              "    </g>\n",
              "</svg>\n",
              "  </button>\n",
              "\n",
              "<style>\n",
              "  .colab-df-quickchart {\n",
              "      --bg-color: #E8F0FE;\n",
              "      --fill-color: #1967D2;\n",
              "      --hover-bg-color: #E2EBFA;\n",
              "      --hover-fill-color: #174EA6;\n",
              "      --disabled-fill-color: #AAA;\n",
              "      --disabled-bg-color: #DDD;\n",
              "  }\n",
              "\n",
              "  [theme=dark] .colab-df-quickchart {\n",
              "      --bg-color: #3B4455;\n",
              "      --fill-color: #D2E3FC;\n",
              "      --hover-bg-color: #434B5C;\n",
              "      --hover-fill-color: #FFFFFF;\n",
              "      --disabled-bg-color: #3B4455;\n",
              "      --disabled-fill-color: #666;\n",
              "  }\n",
              "\n",
              "  .colab-df-quickchart {\n",
              "    background-color: var(--bg-color);\n",
              "    border: none;\n",
              "    border-radius: 50%;\n",
              "    cursor: pointer;\n",
              "    display: none;\n",
              "    fill: var(--fill-color);\n",
              "    height: 32px;\n",
              "    padding: 0;\n",
              "    width: 32px;\n",
              "  }\n",
              "\n",
              "  .colab-df-quickchart:hover {\n",
              "    background-color: var(--hover-bg-color);\n",
              "    box-shadow: 0 1px 2px rgba(60, 64, 67, 0.3), 0 1px 3px 1px rgba(60, 64, 67, 0.15);\n",
              "    fill: var(--button-hover-fill-color);\n",
              "  }\n",
              "\n",
              "  .colab-df-quickchart-complete:disabled,\n",
              "  .colab-df-quickchart-complete:disabled:hover {\n",
              "    background-color: var(--disabled-bg-color);\n",
              "    fill: var(--disabled-fill-color);\n",
              "    box-shadow: none;\n",
              "  }\n",
              "\n",
              "  .colab-df-spinner {\n",
              "    border: 2px solid var(--fill-color);\n",
              "    border-color: transparent;\n",
              "    border-bottom-color: var(--fill-color);\n",
              "    animation:\n",
              "      spin 1s steps(1) infinite;\n",
              "  }\n",
              "\n",
              "  @keyframes spin {\n",
              "    0% {\n",
              "      border-color: transparent;\n",
              "      border-bottom-color: var(--fill-color);\n",
              "      border-left-color: var(--fill-color);\n",
              "    }\n",
              "    20% {\n",
              "      border-color: transparent;\n",
              "      border-left-color: var(--fill-color);\n",
              "      border-top-color: var(--fill-color);\n",
              "    }\n",
              "    30% {\n",
              "      border-color: transparent;\n",
              "      border-left-color: var(--fill-color);\n",
              "      border-top-color: var(--fill-color);\n",
              "      border-right-color: var(--fill-color);\n",
              "    }\n",
              "    40% {\n",
              "      border-color: transparent;\n",
              "      border-right-color: var(--fill-color);\n",
              "      border-top-color: var(--fill-color);\n",
              "    }\n",
              "    60% {\n",
              "      border-color: transparent;\n",
              "      border-right-color: var(--fill-color);\n",
              "    }\n",
              "    80% {\n",
              "      border-color: transparent;\n",
              "      border-right-color: var(--fill-color);\n",
              "      border-bottom-color: var(--fill-color);\n",
              "    }\n",
              "    90% {\n",
              "      border-color: transparent;\n",
              "      border-bottom-color: var(--fill-color);\n",
              "    }\n",
              "  }\n",
              "</style>\n",
              "\n",
              "  <script>\n",
              "    async function quickchart(key) {\n",
              "      const quickchartButtonEl =\n",
              "        document.querySelector('#' + key + ' button');\n",
              "      quickchartButtonEl.disabled = true;  // To prevent multiple clicks.\n",
              "      quickchartButtonEl.classList.add('colab-df-spinner');\n",
              "      try {\n",
              "        const charts = await google.colab.kernel.invokeFunction(\n",
              "            'suggestCharts', [key], {});\n",
              "      } catch (error) {\n",
              "        console.error('Error during call to suggestCharts:', error);\n",
              "      }\n",
              "      quickchartButtonEl.classList.remove('colab-df-spinner');\n",
              "      quickchartButtonEl.classList.add('colab-df-quickchart-complete');\n",
              "    }\n",
              "    (() => {\n",
              "      let quickchartButtonEl =\n",
              "        document.querySelector('#df-09b273ae-de71-4abc-867f-48397c23d31a button');\n",
              "      quickchartButtonEl.style.display =\n",
              "        google.colab.kernel.accessAllowed ? 'block' : 'none';\n",
              "    })();\n",
              "  </script>\n",
              "</div>\n",
              "    </div>\n",
              "  </div>\n"
            ],
            "application/vnd.google.colaboratory.intrinsic+json": {
              "type": "dataframe",
              "variable_name": "data",
              "summary": "{\n  \"name\": \"data\",\n  \"rows\": 20301,\n  \"fields\": [\n    {\n      \"column\": \"DATA_INICIAL\",\n      \"properties\": {\n        \"dtype\": \"category\",\n        \"num_unique_values\": 9,\n        \"samples\": [\n          \"20/2/2022\",\n          \"9/1/2022\",\n          \"6/2/2022\"\n        ],\n        \"semantic_type\": \"\",\n        \"description\": \"\"\n      }\n    },\n    {\n      \"column\": \"DATA_FINAL\",\n      \"properties\": {\n        \"dtype\": \"category\",\n        \"num_unique_values\": 9,\n        \"samples\": [\n          \"26/2/2022\",\n          \"15/1/2022\",\n          \"12/2/2022\"\n        ],\n        \"semantic_type\": \"\",\n        \"description\": \"\"\n      }\n    },\n    {\n      \"column\": \"REGIAO\",\n      \"properties\": {\n        \"dtype\": \"category\",\n        \"num_unique_values\": 5,\n        \"samples\": [\n          \"CENTRO OESTE\",\n          \"NORDESTE\",\n          \"SUL\"\n        ],\n        \"semantic_type\": \"\",\n        \"description\": \"\"\n      }\n    },\n    {\n      \"column\": \"ESTADO\",\n      \"properties\": {\n        \"dtype\": \"category\",\n        \"num_unique_values\": 28,\n        \"samples\": [\n          \"ESPIRITO SANTO\",\n          \"PIAUI\",\n          \"SERGIPE\"\n        ],\n        \"semantic_type\": \"\",\n        \"description\": \"\"\n      }\n    },\n    {\n      \"column\": \"MUNICIPIO\",\n      \"properties\": {\n        \"dtype\": \"category\",\n        \"num_unique_values\": 425,\n        \"samples\": [\n          \"SABARA\",\n          \"CARUARU\",\n          \"LAJEADO\"\n        ],\n        \"semantic_type\": \"\",\n        \"description\": \"\"\n      }\n    },\n    {\n      \"column\": \"PRODUTO\",\n      \"properties\": {\n        \"dtype\": \"category\",\n        \"num_unique_values\": 7,\n        \"samples\": [\n          \"ETANOL HIDRATADO\",\n          \"GASOLINA ADITIVADA\",\n          \"OLEO DIESEL\"\n        ],\n        \"semantic_type\": \"\",\n        \"description\": \"\"\n      }\n    },\n    {\n      \"column\": \"NUMERO_DE_POSTOS_PESQUISADOS\",\n      \"properties\": {\n        \"dtype\": \"number\",\n        \"std\": 9.756546559713623,\n        \"min\": 1.0,\n        \"max\": 146.0,\n        \"num_unique_values\": 102,\n        \"samples\": [\n          22.0,\n          82.0,\n          46.0\n        ],\n        \"semantic_type\": \"\",\n        \"description\": \"\"\n      }\n    },\n    {\n      \"column\": \"UNIDADE_DE_MEDIDA\",\n      \"properties\": {\n        \"dtype\": \"category\",\n        \"num_unique_values\": 3,\n        \"samples\": [\n          \"R$/l\",\n          \"R$/13kg\",\n          \"R$/m\\u00b3\"\n        ],\n        \"semantic_type\": \"\",\n        \"description\": \"\"\n      }\n    },\n    {\n      \"column\": \"PRECO_MEDIO_REVENDA\",\n      \"properties\": {\n        \"dtype\": \"category\",\n        \"num_unique_values\": 4976,\n        \"samples\": [\n          \"4,589\",\n          \"6,225\",\n          \"6,229\"\n        ],\n        \"semantic_type\": \"\",\n        \"description\": \"\"\n      }\n    },\n    {\n      \"column\": \"DESVIO_PADRAO_REVENDA\",\n      \"properties\": {\n        \"dtype\": \"category\",\n        \"num_unique_values\": 2183,\n        \"samples\": [\n          \"0,333\",\n          \"3,498\",\n          \"5,587\"\n        ],\n        \"semantic_type\": \"\",\n        \"description\": \"\"\n      }\n    },\n    {\n      \"column\": \"PRECO_MINIMO_REVENDA\",\n      \"properties\": {\n        \"dtype\": \"category\",\n        \"num_unique_values\": 1281,\n        \"samples\": [\n          \"5,326\",\n          \"4,929\",\n          \"6,508\"\n        ],\n        \"semantic_type\": \"\",\n        \"description\": \"\"\n      }\n    },\n    {\n      \"column\": \"PRECO_MAXIMO_REVENDA\",\n      \"properties\": {\n        \"dtype\": \"category\",\n        \"num_unique_values\": 1247,\n        \"samples\": [\n          \"86,000\",\n          \"4,779\",\n          \"5,741\"\n        ],\n        \"semantic_type\": \"\",\n        \"description\": \"\"\n      }\n    },\n    {\n      \"column\": \"MARGEM_MEDIA_REVENDA\",\n      \"properties\": {\n        \"dtype\": \"category\",\n        \"num_unique_values\": 1,\n        \"samples\": [\n          \"-\"\n        ],\n        \"semantic_type\": \"\",\n        \"description\": \"\"\n      }\n    },\n    {\n      \"column\": \"COEF_DE_VARIACAO_REVENDA\",\n      \"properties\": {\n        \"dtype\": \"category\",\n        \"num_unique_values\": 148,\n        \"samples\": [\n          \"0,132\"\n        ],\n        \"semantic_type\": \"\",\n        \"description\": \"\"\n      }\n    }\n  ]\n}"
            }
          },
          "metadata": {},
          "execution_count": 28
        }
      ]
    },
    {
      "cell_type": "markdown",
      "source": [
        "Vamos começar convertendo os tipos das datas para objetos datetime de fato utilizando pd.to_datetime"
      ],
      "metadata": {
        "id": "ckYA0x1SLq_E"
      }
    },
    {
      "cell_type": "code",
      "source": [
        "data['DATA_INICIAL'] = pd.to_datetime(data['DATA_INICIAL'] ,format=\"%d/%m/%Y\")\n",
        "data['DATA_FINAL'] = pd.to_datetime(data['DATA_FINAL'],format=\"%d/%m/%Y\")\n",
        "data[['DATA_INICIAL', 'DATA_FINAL']].dtypes"
      ],
      "metadata": {
        "colab": {
          "base_uri": "https://localhost:8080/"
        },
        "id": "egjLfSE8Ls5s",
        "outputId": "c0b3ff87-345e-4779-ac0d-cf08d21180d7"
      },
      "execution_count": 29,
      "outputs": [
        {
          "output_type": "execute_result",
          "data": {
            "text/plain": [
              "DATA_INICIAL    datetime64[ns]\n",
              "DATA_FINAL      datetime64[ns]\n",
              "dtype: object"
            ]
          },
          "metadata": {},
          "execution_count": 29
        }
      ]
    },
    {
      "cell_type": "markdown",
      "source": [
        "Consideramos que região e estado devem ser categóricos"
      ],
      "metadata": {
        "id": "7lU-k_K6L4Is"
      }
    },
    {
      "cell_type": "code",
      "source": [
        "data['REGIAO'] = data['REGIAO'].astype('category')\n",
        "data['ESTADO'] = data['ESTADO'].astype('category')\n",
        "data[['REGIAO', 'ESTADO']].dtypes"
      ],
      "metadata": {
        "colab": {
          "base_uri": "https://localhost:8080/"
        },
        "id": "Jl0-q283L7ws",
        "outputId": "b64c2933-9b06-450f-d67d-78c1cafc4787"
      },
      "execution_count": 30,
      "outputs": [
        {
          "output_type": "execute_result",
          "data": {
            "text/plain": [
              "REGIAO    category\n",
              "ESTADO    category\n",
              "dtype: object"
            ]
          },
          "metadata": {},
          "execution_count": 30
        }
      ]
    },
    {
      "cell_type": "code",
      "source": [
        "data['PRODUTO'].unique()"
      ],
      "metadata": {
        "colab": {
          "base_uri": "https://localhost:8080/"
        },
        "id": "V1z2Ru6fMBWN",
        "outputId": "be5bfd1b-a579-46c2-9716-48d00abda65d"
      },
      "execution_count": 31,
      "outputs": [
        {
          "output_type": "execute_result",
          "data": {
            "text/plain": [
              "array(['ETANOL HIDRATADO', 'GASOLINA ADITIVADA', 'GASOLINA COMUM', 'GLP',\n",
              "       'GNV', 'OLEO DIESEL', 'OLEO DIESEL S10', nan], dtype=object)"
            ]
          },
          "metadata": {},
          "execution_count": 31
        }
      ]
    },
    {
      "cell_type": "code",
      "source": [
        "data['PRODUTO'] = data['PRODUTO'].astype('category')\n",
        "\n",
        "data['UNIDADE_DE_MEDIDA'].unique()"
      ],
      "metadata": {
        "colab": {
          "base_uri": "https://localhost:8080/"
        },
        "id": "El25fki1MF3U",
        "outputId": "a4096697-ee6c-4a23-d42e-88528926e414"
      },
      "execution_count": 32,
      "outputs": [
        {
          "output_type": "execute_result",
          "data": {
            "text/plain": [
              "array(['R$/l', 'R$/13kg', 'R$/m³', nan], dtype=object)"
            ]
          },
          "metadata": {},
          "execution_count": 32
        }
      ]
    },
    {
      "cell_type": "markdown",
      "source": [
        "Há três unidades de medida diferentes para preços pesquisados. Poderíamos descobrir a proporção de litros para cada, de forma a ter o valor do litro para cada linha. Porém, os valores de desvio padrão e coeficiente de variância já estão calculados nas medidas originais, nos impossibilitando de obtê-los para as possíveis novas medidas. Sendo assim, vamos considerar três datasets - um para cada unidade de medida."
      ],
      "metadata": {
        "id": "9qDwvLNvM23b"
      }
    },
    {
      "cell_type": "code",
      "source": [
        "print({\n",
        "    unit : f\"{100 * data[data['UNIDADE_DE_MEDIDA'] == unit]['UNIDADE_DE_MEDIDA'].count() / data['UNIDADE_DE_MEDIDA'].count()}%\"\n",
        "    for unit\n",
        "    in data['UNIDADE_DE_MEDIDA'].unique()\n",
        "})"
      ],
      "metadata": {
        "colab": {
          "base_uri": "https://localhost:8080/"
        },
        "id": "ldoblti0M35U",
        "outputId": "121f145d-6500-4807-d68f-3fe08a8c007c"
      },
      "execution_count": 33,
      "outputs": [
        {
          "output_type": "stream",
          "name": "stdout",
          "text": [
            "{'R$/l': '79.88177339901478%', 'R$/13kg': '15.842364532019705%', 'R$/m³': '4.275862068965517%', nan: '0.0%'}\n"
          ]
        }
      ]
    },
    {
      "cell_type": "markdown",
      "source": [
        "Como observado, a unidade de medida menos recorrente constitui mais de 10% do dataset, de forma que nenhuma delas é desprezível. Dessa forma, realizaremos análises para cada das unidades de medidas disponíveis.\n",
        "\n",
        "\n",
        "---\n",
        "\n",
        "\n",
        "Antes de fazermos isso, vamos continuar convertendo valores para seus tipos apropriados."
      ],
      "metadata": {
        "id": "awvzl83CM8lS"
      }
    },
    {
      "cell_type": "code",
      "source": [
        "data['MARGEM_MEDIA_REVENDA'].describe()"
      ],
      "metadata": {
        "colab": {
          "base_uri": "https://localhost:8080/"
        },
        "id": "9g_lklORNNaM",
        "outputId": "c380b17f-be54-4c84-c8e3-ff27a32bbc00"
      },
      "execution_count": 34,
      "outputs": [
        {
          "output_type": "execute_result",
          "data": {
            "text/plain": [
              "count     20300\n",
              "unique        1\n",
              "top           -\n",
              "freq      20300\n",
              "Name: MARGEM_MEDIA_REVENDA, dtype: object"
            ]
          },
          "metadata": {},
          "execution_count": 34
        }
      ]
    },
    {
      "cell_type": "markdown",
      "source": [
        "Há valores em MARGEM_MEDIA_REVENDA que não são NaN, mas são hífens. Vamos converter esses valores para NaNs e atribuir o tipo float64 à coluna."
      ],
      "metadata": {
        "id": "ai8k252RNTb7"
      }
    },
    {
      "cell_type": "code",
      "source": [
        "data['MARGEM_MEDIA_REVENDA'] = data['MARGEM_MEDIA_REVENDA'].replace({ '-': np.nan })\n",
        "data['MARGEM_MEDIA_REVENDA'] = data['MARGEM_MEDIA_REVENDA'].astype('float64')\n",
        "data['MARGEM_MEDIA_REVENDA'].describe()"
      ],
      "metadata": {
        "colab": {
          "base_uri": "https://localhost:8080/"
        },
        "id": "85a5J35bNUyk",
        "outputId": "d6623c6e-1cea-4e0a-e9a5-87145f53c090"
      },
      "execution_count": 35,
      "outputs": [
        {
          "output_type": "execute_result",
          "data": {
            "text/plain": [
              "count    0.0\n",
              "mean     NaN\n",
              "std      NaN\n",
              "min      NaN\n",
              "25%      NaN\n",
              "50%      NaN\n",
              "75%      NaN\n",
              "max      NaN\n",
              "Name: MARGEM_MEDIA_REVENDA, dtype: float64"
            ]
          },
          "metadata": {},
          "execution_count": 35
        }
      ]
    }
  ]
}