{
  "cells": [
    {
      "cell_type": "markdown",
      "metadata": {
        "id": "ojvHnlQGfSxo"
      },
      "source": [
        "**Importações das bibliotecas.**"
      ]
    },
    {
      "cell_type": "code",
      "execution_count": 4,
      "metadata": {
        "colab": {
          "base_uri": "https://localhost:8080/"
        },
        "id": "UUSNhQ8eeuZr",
        "outputId": "6a80b16b-22cd-4710-9fc3-8fb77ddd527e"
      },
      "outputs": [],
      "source": [
        "# Importando as bibliotecas necessarias\n",
        "\n",
        "import pandas as pd\n",
        "import numpy as np\n",
        "from sklearn.linear_model import LinearRegression\n",
        "from matplotlib import pyplot as plt\n",
        "import datetime as dt\n",
        "%matplotlib inline\n",
        "# from google.colab import drive\n",
        "# drive.mount('/content/drive')"
      ]
    },
    {
      "cell_type": "markdown",
      "metadata": {
        "id": "FmRc576if6GI"
      },
      "source": [
        "**1. Introdução e Coleta dos Dados**\n"
      ]
    },
    {
      "cell_type": "code",
      "execution_count": 14,
      "metadata": {
        "id": "yNeoNzBFgOim"
      },
      "outputs": [],
      "source": [
        "pathFile = \"content/semanal-municipios-2022-2024.csv\" # vscode \n",
        "#pathFile = \"/content/semanal-municipios-2022-2024.csv\"# collab\n",
        "data = pd.read_csv(pathFile, sep=\";\")\n"
      ]
    },
    {
      "cell_type": "code",
      "execution_count": 15,
      "metadata": {
        "colab": {
          "base_uri": "https://localhost:8080/"
        },
        "id": "e6MD3CTugRxn",
        "outputId": "a9109bf0-9fd8-4d8b-bd36-bfdf6cbb227c"
      },
      "outputs": [
        {
          "data": {
            "text/plain": [
              "Index(['DATA INICIAL', 'DATA FINAL', 'REGIÃO', 'ESTADO', 'MUNICÍPIO',\n",
              "       'PRODUTO', 'NÚMERO DE POSTOS PESQUISADOS', 'UNIDADE DE MEDIDA',\n",
              "       'PREÇO MÉDIO REVENDA', 'DESVIO PADRÃO REVENDA', 'PREÇO MÍNIMO REVENDA',\n",
              "       'PREÇO MÁXIMO REVENDA', 'MARGEM MÉDIA REVENDA',\n",
              "       'COEF DE VARIAÇÃO REVENDA'],\n",
              "      dtype='object')"
            ]
          },
          "execution_count": 15,
          "metadata": {},
          "output_type": "execute_result"
        }
      ],
      "source": [
        "data.columns"
      ]
    },
    {
      "cell_type": "markdown",
      "metadata": {
        "id": "jddTkHPEI5v_"
      },
      "source": [
        "**Renomeando colunas**\n",
        "\n",
        "Como os nomes das colunas do dataset não estão na forma mais conveniente, isto é, sem espaços ou acentos, vamos, primeiramente, ajustá-los"
      ]
    },
    {
      "cell_type": "code",
      "execution_count": 17,
      "metadata": {
        "id": "GJ--_VP4Jaa-"
      },
      "outputs": [],
      "source": [
        "def get_string_adjuster():\n",
        "    untranslated_string = ' ÁÃÇÍÉÊÚ'\n",
        "    translated_string = '_AACIEEU'\n",
        "\n",
        "    def adjust_string(to_adjust):\n",
        "        translation_map = to_adjust.maketrans(untranslated_string, translated_string)\n",
        "        return to_adjust.translate(translation_map)\n",
        "\n",
        "    return adjust_string"
      ]
    },
    {
      "cell_type": "code",
      "execution_count": 18,
      "metadata": {
        "colab": {
          "base_uri": "https://localhost:8080/"
        },
        "id": "BzP3X7fGJfP2",
        "outputId": "9e237807-5bba-4508-e1b2-4b184bc60d4f"
      },
      "outputs": [
        {
          "data": {
            "text/plain": [
              "Index(['DATA_INICIAL', 'DATA_FINAL', 'REGIAO', 'ESTADO', 'MUNICIPIO',\n",
              "       'PRODUTO', 'NUMERO_DE_POSTOS_PESQUISADOS', 'UNIDADE_DE_MEDIDA',\n",
              "       'PRECO_MEDIO_REVENDA', 'DESVIO_PADRAO_REVENDA', 'PRECO_MINIMO_REVENDA',\n",
              "       'PRECO_MAXIMO_REVENDA', 'MARGEM_MEDIA_REVENDA',\n",
              "       'COEF_DE_VARIACAO_REVENDA'],\n",
              "      dtype='object')"
            ]
          },
          "execution_count": 18,
          "metadata": {},
          "output_type": "execute_result"
        }
      ],
      "source": [
        "adjust_string = get_string_adjuster()\n",
        "\n",
        "column_names_to_adjusted_names = {\n",
        "    original_name : adjust_string(original_name)\n",
        "    for original_name\n",
        "    in data.columns\n",
        "}\n",
        "\n",
        "data = data.rename(columns = column_names_to_adjusted_names)\n",
        "data.columns"
      ]
    },
    {
      "cell_type": "markdown",
      "metadata": {
        "id": "D12FstrjJryu"
      },
      "source": [
        "**Tipo de cada coluna:**\n",
        "\n",
        "Objetivamos definir o tipo de cada coluna e, caso necessário, ajustá-lo para um condizente com o mostrado"
      ]
    },
    {
      "cell_type": "code",
      "execution_count": 19,
      "metadata": {
        "colab": {
          "base_uri": "https://localhost:8080/"
        },
        "id": "Uwat-1XxJw13",
        "outputId": "3a30f8a3-fa11-495d-b1a3-a3ee402a2548"
      },
      "outputs": [
        {
          "data": {
            "text/plain": [
              "DATA_INICIAL                    object\n",
              "DATA_FINAL                      object\n",
              "REGIAO                          object\n",
              "ESTADO                          object\n",
              "MUNICIPIO                       object\n",
              "PRODUTO                         object\n",
              "NUMERO_DE_POSTOS_PESQUISADOS     int64\n",
              "UNIDADE_DE_MEDIDA               object\n",
              "PRECO_MEDIO_REVENDA             object\n",
              "DESVIO_PADRAO_REVENDA           object\n",
              "PRECO_MINIMO_REVENDA            object\n",
              "PRECO_MAXIMO_REVENDA            object\n",
              "MARGEM_MEDIA_REVENDA            object\n",
              "COEF_DE_VARIACAO_REVENDA        object\n",
              "dtype: object"
            ]
          },
          "execution_count": 19,
          "metadata": {},
          "output_type": "execute_result"
        }
      ],
      "source": [
        "data.dtypes"
      ]
    },
    {
      "cell_type": "code",
      "execution_count": 20,
      "metadata": {
        "colab": {
          "base_uri": "https://localhost:8080/",
          "height": 348
        },
        "id": "c0MaM1ovLOwt",
        "outputId": "ea510775-a438-4b2e-cdfa-8a4ac4fb2e31"
      },
      "outputs": [
        {
          "data": {
            "text/html": [
              "<div>\n",
              "<style scoped>\n",
              "    .dataframe tbody tr th:only-of-type {\n",
              "        vertical-align: middle;\n",
              "    }\n",
              "\n",
              "    .dataframe tbody tr th {\n",
              "        vertical-align: top;\n",
              "    }\n",
              "\n",
              "    .dataframe thead th {\n",
              "        text-align: right;\n",
              "    }\n",
              "</style>\n",
              "<table border=\"1\" class=\"dataframe\">\n",
              "  <thead>\n",
              "    <tr style=\"text-align: right;\">\n",
              "      <th></th>\n",
              "      <th>DATA_INICIAL</th>\n",
              "      <th>DATA_FINAL</th>\n",
              "      <th>REGIAO</th>\n",
              "      <th>ESTADO</th>\n",
              "      <th>MUNICIPIO</th>\n",
              "      <th>PRODUTO</th>\n",
              "      <th>NUMERO_DE_POSTOS_PESQUISADOS</th>\n",
              "      <th>UNIDADE_DE_MEDIDA</th>\n",
              "      <th>PRECO_MEDIO_REVENDA</th>\n",
              "      <th>DESVIO_PADRAO_REVENDA</th>\n",
              "      <th>PRECO_MINIMO_REVENDA</th>\n",
              "      <th>PRECO_MAXIMO_REVENDA</th>\n",
              "      <th>MARGEM_MEDIA_REVENDA</th>\n",
              "      <th>COEF_DE_VARIACAO_REVENDA</th>\n",
              "    </tr>\n",
              "  </thead>\n",
              "  <tbody>\n",
              "    <tr>\n",
              "      <th>0</th>\n",
              "      <td>2/1/2022</td>\n",
              "      <td>8/1/2022</td>\n",
              "      <td>SUDESTE</td>\n",
              "      <td>SAO PAULO</td>\n",
              "      <td>ADAMANTINA</td>\n",
              "      <td>ETANOL HIDRATADO</td>\n",
              "      <td>7</td>\n",
              "      <td>R$/l</td>\n",
              "      <td>4,656</td>\n",
              "      <td>0,078</td>\n",
              "      <td>4,580</td>\n",
              "      <td>4,790</td>\n",
              "      <td>-</td>\n",
              "      <td>0,017</td>\n",
              "    </tr>\n",
              "    <tr>\n",
              "      <th>1</th>\n",
              "      <td>2/1/2022</td>\n",
              "      <td>8/1/2022</td>\n",
              "      <td>CENTRO OESTE</td>\n",
              "      <td>GOIAS</td>\n",
              "      <td>AGUAS LINDAS DE GOIAS</td>\n",
              "      <td>ETANOL HIDRATADO</td>\n",
              "      <td>4</td>\n",
              "      <td>R$/l</td>\n",
              "      <td>5,199</td>\n",
              "      <td>0,001</td>\n",
              "      <td>5,198</td>\n",
              "      <td>5,199</td>\n",
              "      <td>-</td>\n",
              "      <td>0,000</td>\n",
              "    </tr>\n",
              "    <tr>\n",
              "      <th>2</th>\n",
              "      <td>2/1/2022</td>\n",
              "      <td>8/1/2022</td>\n",
              "      <td>SUL</td>\n",
              "      <td>RIO GRANDE DO SUL</td>\n",
              "      <td>ALEGRETE</td>\n",
              "      <td>ETANOL HIDRATADO</td>\n",
              "      <td>2</td>\n",
              "      <td>R$/l</td>\n",
              "      <td>6,845</td>\n",
              "      <td>0,643</td>\n",
              "      <td>6,390</td>\n",
              "      <td>7,299</td>\n",
              "      <td>-</td>\n",
              "      <td>0,094</td>\n",
              "    </tr>\n",
              "    <tr>\n",
              "      <th>3</th>\n",
              "      <td>2/1/2022</td>\n",
              "      <td>8/1/2022</td>\n",
              "      <td>NORTE</td>\n",
              "      <td>PARA</td>\n",
              "      <td>ALENQUER</td>\n",
              "      <td>ETANOL HIDRATADO</td>\n",
              "      <td>1</td>\n",
              "      <td>R$/l</td>\n",
              "      <td>7,120</td>\n",
              "      <td>0,000</td>\n",
              "      <td>7,120</td>\n",
              "      <td>7,120</td>\n",
              "      <td>-</td>\n",
              "      <td>0,000</td>\n",
              "    </tr>\n",
              "    <tr>\n",
              "      <th>4</th>\n",
              "      <td>2/1/2022</td>\n",
              "      <td>8/1/2022</td>\n",
              "      <td>SUDESTE</td>\n",
              "      <td>MINAS GERAIS</td>\n",
              "      <td>ALFENAS</td>\n",
              "      <td>ETANOL HIDRATADO</td>\n",
              "      <td>2</td>\n",
              "      <td>R$/l</td>\n",
              "      <td>5,499</td>\n",
              "      <td>0,000</td>\n",
              "      <td>5,499</td>\n",
              "      <td>5,499</td>\n",
              "      <td>-</td>\n",
              "      <td>0,000</td>\n",
              "    </tr>\n",
              "  </tbody>\n",
              "</table>\n",
              "</div>"
            ],
            "text/plain": [
              "  DATA_INICIAL DATA_FINAL        REGIAO             ESTADO  \\\n",
              "0     2/1/2022   8/1/2022       SUDESTE          SAO PAULO   \n",
              "1     2/1/2022   8/1/2022  CENTRO OESTE              GOIAS   \n",
              "2     2/1/2022   8/1/2022           SUL  RIO GRANDE DO SUL   \n",
              "3     2/1/2022   8/1/2022         NORTE               PARA   \n",
              "4     2/1/2022   8/1/2022       SUDESTE       MINAS GERAIS   \n",
              "\n",
              "               MUNICIPIO           PRODUTO  NUMERO_DE_POSTOS_PESQUISADOS  \\\n",
              "0             ADAMANTINA  ETANOL HIDRATADO                             7   \n",
              "1  AGUAS LINDAS DE GOIAS  ETANOL HIDRATADO                             4   \n",
              "2               ALEGRETE  ETANOL HIDRATADO                             2   \n",
              "3               ALENQUER  ETANOL HIDRATADO                             1   \n",
              "4                ALFENAS  ETANOL HIDRATADO                             2   \n",
              "\n",
              "  UNIDADE_DE_MEDIDA PRECO_MEDIO_REVENDA DESVIO_PADRAO_REVENDA  \\\n",
              "0              R$/l               4,656                 0,078   \n",
              "1              R$/l               5,199                 0,001   \n",
              "2              R$/l               6,845                 0,643   \n",
              "3              R$/l               7,120                 0,000   \n",
              "4              R$/l               5,499                 0,000   \n",
              "\n",
              "  PRECO_MINIMO_REVENDA PRECO_MAXIMO_REVENDA MARGEM_MEDIA_REVENDA  \\\n",
              "0                4,580                4,790                    -   \n",
              "1                5,198                5,199                    -   \n",
              "2                6,390                7,299                    -   \n",
              "3                7,120                7,120                    -   \n",
              "4                5,499                5,499                    -   \n",
              "\n",
              "  COEF_DE_VARIACAO_REVENDA  \n",
              "0                    0,017  \n",
              "1                    0,000  \n",
              "2                    0,094  \n",
              "3                    0,000  \n",
              "4                    0,000  "
            ]
          },
          "execution_count": 20,
          "metadata": {},
          "output_type": "execute_result"
        }
      ],
      "source": [
        "data.head()"
      ]
    },
    {
      "cell_type": "markdown",
      "metadata": {
        "id": "ckYA0x1SLq_E"
      },
      "source": [
        "Vamos começar convertendo os tipos das datas para objetos datetime de fato utilizando pd.to_datetime"
      ]
    },
    {
      "cell_type": "code",
      "execution_count": 21,
      "metadata": {
        "colab": {
          "base_uri": "https://localhost:8080/"
        },
        "id": "egjLfSE8Ls5s",
        "outputId": "c0b3ff87-345e-4779-ac0d-cf08d21180d7"
      },
      "outputs": [
        {
          "data": {
            "text/plain": [
              "DATA_INICIAL    datetime64[ns]\n",
              "DATA_FINAL      datetime64[ns]\n",
              "dtype: object"
            ]
          },
          "execution_count": 21,
          "metadata": {},
          "output_type": "execute_result"
        }
      ],
      "source": [
        "data['DATA_INICIAL'] = pd.to_datetime(data['DATA_INICIAL'] ,format=\"%d/%m/%Y\")\n",
        "data['DATA_FINAL'] = pd.to_datetime(data['DATA_FINAL'],format=\"%d/%m/%Y\")\n",
        "data[['DATA_INICIAL', 'DATA_FINAL']].dtypes"
      ]
    },
    {
      "cell_type": "markdown",
      "metadata": {
        "id": "7lU-k_K6L4Is"
      },
      "source": [
        "Consideramos que região e estado devem ser categóricos"
      ]
    },
    {
      "cell_type": "code",
      "execution_count": 22,
      "metadata": {
        "colab": {
          "base_uri": "https://localhost:8080/"
        },
        "id": "Jl0-q283L7ws",
        "outputId": "b64c2933-9b06-450f-d67d-78c1cafc4787"
      },
      "outputs": [
        {
          "data": {
            "text/plain": [
              "REGIAO    category\n",
              "ESTADO    category\n",
              "dtype: object"
            ]
          },
          "execution_count": 22,
          "metadata": {},
          "output_type": "execute_result"
        }
      ],
      "source": [
        "data['REGIAO'] = data['REGIAO'].astype('category')\n",
        "data['ESTADO'] = data['ESTADO'].astype('category')\n",
        "data[['REGIAO', 'ESTADO']].dtypes"
      ]
    },
    {
      "cell_type": "code",
      "execution_count": 23,
      "metadata": {
        "colab": {
          "base_uri": "https://localhost:8080/"
        },
        "id": "V1z2Ru6fMBWN",
        "outputId": "be5bfd1b-a579-46c2-9716-48d00abda65d"
      },
      "outputs": [
        {
          "data": {
            "text/plain": [
              "array(['ETANOL HIDRATADO', 'GASOLINA ADITIVADA', 'GASOLINA COMUM', 'GLP',\n",
              "       'GNV', 'OLEO DIESEL', 'OLEO DIESEL S10'], dtype=object)"
            ]
          },
          "execution_count": 23,
          "metadata": {},
          "output_type": "execute_result"
        }
      ],
      "source": [
        "data['PRODUTO'].unique()"
      ]
    },
    {
      "cell_type": "code",
      "execution_count": 24,
      "metadata": {
        "colab": {
          "base_uri": "https://localhost:8080/"
        },
        "id": "El25fki1MF3U",
        "outputId": "a4096697-ee6c-4a23-d42e-88528926e414"
      },
      "outputs": [
        {
          "data": {
            "text/plain": [
              "array(['R$/l', 'R$/13kg', 'R$/m³'], dtype=object)"
            ]
          },
          "execution_count": 24,
          "metadata": {},
          "output_type": "execute_result"
        }
      ],
      "source": [
        "data['PRODUTO'] = data['PRODUTO'].astype('category')\n",
        "\n",
        "data['UNIDADE_DE_MEDIDA'].unique()"
      ]
    },
    {
      "cell_type": "markdown",
      "metadata": {
        "id": "9qDwvLNvM23b"
      },
      "source": [
        "Há três unidades de medida diferentes para preços pesquisados. Poderíamos descobrir a proporção de litros para cada, de forma a ter o valor do litro para cada linha. Porém, os valores de desvio padrão e coeficiente de variância já estão calculados nas medidas originais, nos impossibilitando de obtê-los para as possíveis novas medidas. Sendo assim, vamos considerar três datasets - um para cada unidade de medida."
      ]
    },
    {
      "cell_type": "code",
      "execution_count": 33,
      "metadata": {
        "colab": {
          "base_uri": "https://localhost:8080/"
        },
        "id": "ldoblti0M35U",
        "outputId": "121f145d-6500-4807-d68f-3fe08a8c007c"
      },
      "outputs": [
        {
          "name": "stdout",
          "output_type": "stream",
          "text": [
            "{'R$/l': '79.88177339901478%', 'R$/13kg': '15.842364532019705%', 'R$/m³': '4.275862068965517%', nan: '0.0%'}\n"
          ]
        }
      ],
      "source": [
        "print({\n",
        "    unit : f\"{100 * data[data['UNIDADE_DE_MEDIDA'] == unit]['UNIDADE_DE_MEDIDA'].count() / data['UNIDADE_DE_MEDIDA'].count()}%\"\n",
        "    for unit\n",
        "    in data['UNIDADE_DE_MEDIDA'].unique()\n",
        "})"
      ]
    },
    {
      "cell_type": "markdown",
      "metadata": {
        "id": "awvzl83CM8lS"
      },
      "source": [
        "Como observado, a unidade de medida menos recorrente constitui mais de 10% do dataset, de forma que nenhuma delas é desprezível. Dessa forma, realizaremos análises para cada das unidades de medidas disponíveis.\n",
        "\n",
        "\n",
        "---\n",
        "\n",
        "\n",
        "Antes de fazermos isso, vamos continuar convertendo valores para seus tipos apropriados."
      ]
    },
    {
      "cell_type": "code",
      "execution_count": 25,
      "metadata": {
        "colab": {
          "base_uri": "https://localhost:8080/"
        },
        "id": "9g_lklORNNaM",
        "outputId": "c380b17f-be54-4c84-c8e3-ff27a32bbc00"
      },
      "outputs": [
        {
          "data": {
            "text/plain": [
              "count     313500\n",
              "unique         1\n",
              "top            -\n",
              "freq      313500\n",
              "Name: MARGEM_MEDIA_REVENDA, dtype: object"
            ]
          },
          "execution_count": 25,
          "metadata": {},
          "output_type": "execute_result"
        }
      ],
      "source": [
        "data['MARGEM_MEDIA_REVENDA'].describe()"
      ]
    },
    {
      "cell_type": "markdown",
      "metadata": {
        "id": "ai8k252RNTb7"
      },
      "source": [
        "Há valores em MARGEM_MEDIA_REVENDA que não são NaN, mas são hífens. Vamos converter esses valores para NaNs e atribuir o tipo float64 à coluna."
      ]
    },
    {
      "cell_type": "code",
      "execution_count": 27,
      "metadata": {
        "colab": {
          "base_uri": "https://localhost:8080/"
        },
        "id": "85a5J35bNUyk",
        "outputId": "d6623c6e-1cea-4e0a-e9a5-87145f53c090"
      },
      "outputs": [
        {
          "data": {
            "text/plain": [
              "count    0.0\n",
              "mean     NaN\n",
              "std      NaN\n",
              "min      NaN\n",
              "25%      NaN\n",
              "50%      NaN\n",
              "75%      NaN\n",
              "max      NaN\n",
              "Name: MARGEM_MEDIA_REVENDA, dtype: float64"
            ]
          },
          "execution_count": 27,
          "metadata": {},
          "output_type": "execute_result"
        }
      ],
      "source": [
        "data['MARGEM_MEDIA_REVENDA'] = data['MARGEM_MEDIA_REVENDA'].replace({ '-': np.nan })\n",
        "data['MARGEM_MEDIA_REVENDA'] = data['MARGEM_MEDIA_REVENDA'].astype('float64')\n",
        "data['MARGEM_MEDIA_REVENDA'].describe()"
      ]
    }
  ],
  "metadata": {
    "colab": {
      "provenance": []
    },
    "kernelspec": {
      "display_name": "Python 3",
      "name": "python3"
    },
    "language_info": {
      "codemirror_mode": {
        "name": "ipython",
        "version": 3
      },
      "file_extension": ".py",
      "mimetype": "text/x-python",
      "name": "python",
      "nbconvert_exporter": "python",
      "pygments_lexer": "ipython3",
      "version": "3.10.12"
    }
  },
  "nbformat": 4,
  "nbformat_minor": 0
}
